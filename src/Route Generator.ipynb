{
 "cells": [
  {
   "cell_type": "markdown",
   "metadata": {},
   "source": [
    "# Route Generator\n",
    "\n",
    "## Inputs\n",
    "- File containing the road network\n",
    "- File containing the link parameters such as travel time, waiting time, toll fare.\n",
    "- File containing the position, destination for each agent\n",
    "- File containing the agent parameters\n",
    "\n",
    "## Outputs\n",
    "- File containing plans for all agents with scores"
   ]
  },
  {
   "cell_type": "code",
   "execution_count": 1,
   "metadata": {},
   "outputs": [],
   "source": [
    "import networkx as nx\n",
    "from matplotlib import pyplot as plt\n",
    "import numpy as np\n",
    "import random\n",
    "\n",
    "%matplotlib inline"
   ]
  },
  {
   "cell_type": "markdown",
   "metadata": {},
   "source": [
    "### Helper Functions"
   ]
  },
  {
   "cell_type": "code",
   "execution_count": 2,
   "metadata": {},
   "outputs": [],
   "source": [
    "def drawNetwork(G):\n",
    "    '''\n",
    "    Helper function to plot the network for visualization\n",
    "    \n",
    "    Inputs:\n",
    "        G - The road network as a networkx graph\n",
    "    '''\n",
    "    pos = nx.get_node_attributes(G, 'pos')\n",
    "    plt.figure(figsize=(12, 12))    \n",
    "    nx.draw(G,pos,labels={node:node for node in G.nodes()},node_color='g')\n",
    "    edge_labels = {\n",
    "        (a,b):\n",
    "        \"%.2f\" % round(nx.get_edge_attributes(G,'p_1')[(a,b)],2) + ', '\n",
    "        \"%.2f\" % round(nx.get_edge_attributes(G,'p_2')[(a,b)],2) + ', '\n",
    "        \"%.2f\" % round(nx.get_edge_attributes(G,'p_3')[(a,b)],2) + ', '\n",
    "        \"%.2f\" % round(nx.get_edge_attributes(G,'p_4')[(a,b)],2)\n",
    "        for a,b in G.edges()}\n",
    "    nx.draw_networkx_edge_labels(G,pos,edge_labels=edge_labels,font_color='r')\n",
    "    plt.axis('off')\n",
    "    plt.show()"
   ]
  },
  {
   "cell_type": "markdown",
   "metadata": {},
   "source": [
    "### Temporary parameters"
   ]
  },
  {
   "cell_type": "code",
   "execution_count": 3,
   "metadata": {},
   "outputs": [],
   "source": [
    "N = 4 # No. of rows in grid\n",
    "M = 5 # No. of cols in grid\n",
    "n_params = 4 # No. of link parameters\n",
    "n_agents = 40 # No. of agents to generate plans"
   ]
  },
  {
   "cell_type": "markdown",
   "metadata": {},
   "source": [
    "### Core Functionality"
   ]
  },
  {
   "cell_type": "code",
   "execution_count": 4,
   "metadata": {},
   "outputs": [],
   "source": [
    "def getNetworkFromFile(path):\n",
    "    '''\n",
    "    Creates a network using the networkx library using the file containing the road network\n",
    "    \n",
    "    Inputs:\n",
    "        path    - path to input file containing road network\n",
    "    \n",
    "    Outputs:\n",
    "        G       - graph of networkx which contains the road network \n",
    "        n_nodes - Number of nodes read\n",
    "    '''\n",
    "    \n",
    "    # TODO: Instead of making network, read from file\n",
    "    \n",
    "    global N,M\n",
    "    \n",
    "    G = nx.DiGraph()\n",
    "    \n",
    "    # Adding N*M nodes to graph\n",
    "    for i in range(N*M):\n",
    "        # These positions are only for visualization since (0,0) is \n",
    "        # on the bottom left side\n",
    "        G.add_node(str(i+1),pos=(i%M+1,4-int(i/M)))\n",
    "        \n",
    "    n_nodes = N*M\n",
    "    \n",
    "    return G, n_nodes\n",
    "    "
   ]
  },
  {
   "cell_type": "code",
   "execution_count": 5,
   "metadata": {},
   "outputs": [],
   "source": [
    "def getNetworkWithLinkParameters(G, path):\n",
    "    '''\n",
    "    Adds the link parameters (waiting time, travel time, etc to the road network)\n",
    "    \n",
    "    Inputs:\n",
    "        G       - input road network as a networkx graph\n",
    "        path    - path to input file containing network parameters\n",
    "        \n",
    "    Outputs:\n",
    "        G       - The road network with parameters added\n",
    "        n_links - Number of links read\n",
    "    '''\n",
    "    \n",
    "    # TODO: Read this dict from file\n",
    "    \n",
    "    \n",
    "    global N,M,n_params\n",
    "    \n",
    "    # Temporarily using normal distribution (1,0.2) and 4 parameters \n",
    "    \n",
    "    link_idx = 0;\n",
    "    \n",
    "    # All nodes will have an edge to the node on their right side\n",
    "    # except the last column\n",
    "    for i in range(N):\n",
    "        for j in range(M-1):\n",
    "            G.add_edge(str(M*i+j+1), str(M*i+j+2),\n",
    "                        link_id = 'link_' + str(link_idx+1), \n",
    "                        p_1=np.random.normal(1,0.2),\n",
    "                        p_2=np.random.normal(1,0.2),\n",
    "                        p_3=np.random.normal(1,0.2),\n",
    "                        p_4=np.random.normal(1,0.2))\n",
    "            link_idx = link_idx + 1\n",
    "    \n",
    "    # All nodes will have an edge to the node on their left side\n",
    "    # except the first column\n",
    "    for i in range(N):\n",
    "        for j in range(1,M):\n",
    "            G.add_edge(str(M*i+j+1), str(M*i+j), \n",
    "                        link_id = 'link_' + str(link_idx+1), \n",
    "                        p_1=np.random.normal(1,0.2),\n",
    "                        p_2=np.random.normal(1,0.2),\n",
    "                        p_3=np.random.normal(1,0.2),\n",
    "                        p_4=np.random.normal(1,0.2))\n",
    "            link_idx = link_idx + 1\n",
    "            \n",
    "    # All nodes will have an edge to the node on their bottom side\n",
    "    # except the last row\n",
    "    for i in range(N-1):\n",
    "        for j in range(M):\n",
    "            G.add_edge(str(M*i + j+1), str(M*(i+1)+j+1), \n",
    "                        link_id = 'link_' + str(link_idx+1), \n",
    "                        p_1=np.random.normal(1,0.2),\n",
    "                        p_2=np.random.normal(1,0.2),\n",
    "                        p_3=np.random.normal(1,0.2),\n",
    "                        p_4=np.random.normal(1,0.2))\n",
    "            link_idx = link_idx + 1\n",
    "            \n",
    "    # All nodes will have an edge to the node on their top side\n",
    "    # except the first row\n",
    "    for i in range(1,N):\n",
    "        for j in range(M):\n",
    "            G.add_edge(str(M*i + j+1), str(M*(i-1)+j+1), \n",
    "                        link_id = 'link_' + str(link_idx+1),  \n",
    "                        p_1=np.random.normal(1,0.2),\n",
    "                        p_2=np.random.normal(1,0.2),\n",
    "                        p_3=np.random.normal(1,0.2),\n",
    "                        p_4=np.random.normal(1,0.2))\n",
    "            link_idx = link_idx + 1\n",
    "            \n",
    "    n_links = link_idx\n",
    "    \n",
    "    return G, n_links"
   ]
  },
  {
   "cell_type": "code",
   "execution_count": 6,
   "metadata": {},
   "outputs": [],
   "source": [
    "def getAgentPreferencesFromFile(path):\n",
    "    '''\n",
    "    Read preferences of all agents from file\n",
    "    \n",
    "    Inputs:\n",
    "        path        - path to input file containing preferences\n",
    "        \n",
    "    Outputs:\n",
    "        agent_prefs - dict containing preferences for each agents\n",
    "        n_prefs     - no of preferences read\n",
    "    '''\n",
    "    \n",
    "    # TODO: Read from file\n",
    "    \n",
    "    global n_agents\n",
    "    "
   ]
  },
  {
   "cell_type": "code",
   "execution_count": 12,
   "metadata": {},
   "outputs": [],
   "source": [
    "def getTripsFromFile(path):\n",
    "    '''\n",
    "    Read trips of all agents from file\n",
    "    \n",
    "    Inputs:\n",
    "        path    - path to input file containing all trips\n",
    "        \n",
    "    Outputs:\n",
    "        trips   - list containing trips for each agent\n",
    "        n_trips - number of trips read\n",
    "    '''\n",
    "    \n",
    "    # TODO: Read from file\n",
    "    \n",
    "    global n_agents, N, M\n",
    "    \n",
    "    # Trip structure is shown below\n",
    "    # trips = {'agent_1': ('2','3'),\n",
    "    #          'agent_2': ('7','4'),\n",
    "    #           ...}\n",
    "    \n",
    "    trips = {}\n",
    "    \n",
    "    for i in range(n_agents):\n",
    "        \n",
    "        agent_id = 'agent_'+str(i+1)\n",
    "        source_node = str(random.randint(1,N*M+1))\n",
    "        dest_node = str(random.randint(1,N*M+1))\n",
    "        \n",
    "        # Ensuring that source and destination nodes are different\n",
    "        while source_node==dest_node:\n",
    "            dest_node = str(random.randint(1,N*M+1))\n",
    "        \n",
    "        \n",
    "        trips[agent_id] = (source_node, dest_node)\n",
    "        \n",
    "    n_trips = n_agents\n",
    "    \n",
    "    return trips, n_trips"
   ]
  },
  {
   "cell_type": "code",
   "execution_count": 13,
   "metadata": {},
   "outputs": [],
   "source": [
    "def getPlansForTrips(G, trips, agent_prefs, n_links):\n",
    "    '''\n",
    "    Inputs trips and generates plans\n",
    "    \n",
    "    Inputs:\n",
    "        G           - road network as a networkx graph\n",
    "        trips       - list containing trips for all agents \n",
    "        agent_prefs - dict containing agent preferences\n",
    "        n_links     - number of links in the road network \n",
    "        \n",
    "    Outputs:\n",
    "        plans       - dict containing plans for each agent\n",
    "    '''\n",
    "    \n",
    "    # Plan structure is shown below\n",
    "    # plans = {'agent_1':{'plan_1':[0,0,1,0,1,0,0],\n",
    "    #                     'plan_2':[0,1,0,0,0,1,0],\n",
    "    #                     'plan_3':[0,0,1,0,0,0,1],\n",
    "    #                     'plan_4':[1,0,0,0,1,0,0],\n",
    "    #                     'score_1':1.34,\n",
    "    #                     'score_2':1.07,\n",
    "    #                     'score_3':1.71,\n",
    "    #                     'score_4':1.92},\n",
    "    #          'agent_2':{'plan_1':[0,0,1,0,1,0,0],\n",
    "    #                     'plan_2':[0,1,0,0,0,1,0],\n",
    "    #                     'plan_3':[0,0,1,0,0,0,1],\n",
    "    #                     'plan_4':[1,0,0,0,1,0,0],\n",
    "    #                     'score_1':1.34,\n",
    "    #                     'score_2':1.07,\n",
    "    #                     'score_3':1.71,\n",
    "    #                     'score_4':1.92}}\n",
    "    "
   ]
  },
  {
   "cell_type": "markdown",
   "metadata": {},
   "source": [
    "### Main Script"
   ]
  },
  {
   "cell_type": "code",
   "execution_count": 14,
   "metadata": {},
   "outputs": [
    {
     "name": "stdout",
     "output_type": "stream",
     "text": [
      "Generating road network with 20 nodes\n",
      "Added 62 links to the network\n"
     ]
    }
   ],
   "source": [
    "G, n_nodes = getNetworkFromFile('path/to/foo')\n",
    "print('Generating road network with', n_nodes, 'nodes')\n",
    "G, n_links = getNetworkWithLinkParameters(G,'path/to/foo')\n",
    "print('Added', n_links, 'links to the network')"
   ]
  },
  {
   "cell_type": "code",
   "execution_count": 15,
   "metadata": {},
   "outputs": [
    {
     "data": {
      "image/png": "[encoded data removed]",
      "text/plain": [
       "<matplotlib.figure.Figure at 0x7f9c2504c860>"
      ]
     },
     "metadata": {},
     "output_type": "display_data"
    }
   ],
   "source": [
    "drawNetwork(G)"
   ]
  },
  {
   "cell_type": "code",
   "execution_count": 16,
   "metadata": {},
   "outputs": [
    {
     "name": "stdout",
     "output_type": "stream",
     "text": [
      "40 trips read from file\n"
     ]
    }
   ],
   "source": [
    "trips, n_trips = getTripsFromFile('path/to/foo')\n",
    "print(n_trips,'trips read from file')"
   ]
  },
  {
   "cell_type": "code",
   "execution_count": 17,
   "metadata": {},
   "outputs": [
    {
     "data": {
      "text/plain": [
       "{'agent_1': ('8', '5'),\n",
       " 'agent_10': ('13', '1'),\n",
       " 'agent_11': ('21', '2'),\n",
       " 'agent_12': ('19', '17'),\n",
       " 'agent_13': ('6', '19'),\n",
       " 'agent_14': ('9', '7'),\n",
       " 'agent_15': ('9', '3'),\n",
       " 'agent_16': ('13', '20'),\n",
       " 'agent_17': ('12', '2'),\n",
       " 'agent_18': ('18', '4'),\n",
       " 'agent_19': ('6', '16'),\n",
       " 'agent_2': ('2', '16'),\n",
       " 'agent_20': ('1', '19'),\n",
       " 'agent_21': ('4', '14'),\n",
       " 'agent_22': ('21', '13'),\n",
       " 'agent_23': ('21', '16'),\n",
       " 'agent_24': ('7', '6'),\n",
       " 'agent_25': ('4', '17'),\n",
       " 'agent_26': ('12', '21'),\n",
       " 'agent_27': ('6', '2'),\n",
       " 'agent_28': ('7', '13'),\n",
       " 'agent_29': ('13', '12'),\n",
       " 'agent_3': ('20', '3'),\n",
       " 'agent_30': ('9', '17'),\n",
       " 'agent_31': ('6', '16'),\n",
       " 'agent_32': ('3', '20'),\n",
       " 'agent_33': ('6', '15'),\n",
       " 'agent_34': ('2', '16'),\n",
       " 'agent_35': ('5', '15'),\n",
       " 'agent_36': ('1', '19'),\n",
       " 'agent_37': ('19', '16'),\n",
       " 'agent_38': ('10', '2'),\n",
       " 'agent_39': ('14', '9'),\n",
       " 'agent_4': ('13', '10'),\n",
       " 'agent_40': ('3', '13'),\n",
       " 'agent_5': ('7', '19'),\n",
       " 'agent_6': ('17', '1'),\n",
       " 'agent_7': ('11', '15'),\n",
       " 'agent_8': ('8', '18'),\n",
       " 'agent_9': ('8', '3')}"
      ]
     },
     "execution_count": 17,
     "metadata": {},
     "output_type": "execute_result"
    }
   ],
   "source": [
    "trips"
   ]
  },
  {
   "cell_type": "code",
   "execution_count": null,
   "metadata": {},
   "outputs": [],
   "source": []
  }
 ],
 "metadata": {
  "kernelspec": {
   "display_name": "Python 3",
   "language": "python",
   "name": "python3"
  },
  "language_info": {
   "codemirror_mode": {
    "name": "ipython",
    "version": 3
   },
   "file_extension": ".py",
   "mimetype": "text/x-python",
   "name": "python",
   "nbconvert_exporter": "python",
   "pygments_lexer": "ipython3",
   "version": "3.6.4"
  }
 },
 "nbformat": 4,
 "nbformat_minor": 2
}
