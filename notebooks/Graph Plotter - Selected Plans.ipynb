{
 "cells": [
  {
   "cell_type": "code",
   "execution_count": 1,
   "metadata": {},
   "outputs": [],
   "source": [
    "import os\n",
    "import csv\n",
    "import numpy as np\n",
    "import matplotlib.pyplot as plt"
   ]
  },
  {
   "cell_type": "code",
   "execution_count": 2,
   "metadata": {},
   "outputs": [],
   "source": [
    "alpha = 0.00\n",
    "beta = 0.00\n",
    "scenario='sample'\n",
    "output_folder = '../output/%s-%.2f-%.2f'%(scenario,alpha,beta)"
   ]
  },
  {
   "cell_type": "code",
   "execution_count": 3,
   "metadata": {},
   "outputs": [],
   "source": [
    "n_plans = 16\n",
    "n_agents = 100\n",
    "epos_iterations = 40"
   ]
  },
  {
   "cell_type": "code",
   "execution_count": 4,
   "metadata": {},
   "outputs": [],
   "source": [
    "hist = [0]*n_plans\n",
    "for i in range(0,6001,300):\n",
    "    plans_folder = os.path.join(output_folder,\"t_%d\"%i,\"traffic\")\n",
    "    included = []\n",
    "    for agent in range(n_agents):\n",
    "        agent_plans_file = os.path.join(plans_folder,'agent_%d.plans'%agent)\n",
    "        f = open(agent_plans_file,'r')\n",
    "        if f.readline()[0]!='0':\n",
    "            included.append(agent)\n",
    "        f.close()\n",
    "    selected_plans_file = os.path.join(output_folder,\"t_%d\"%i,'selected-plans.csv')\n",
    "    with open(selected_plans_file, mode='r') as infile:\n",
    "        reader = csv.reader(infile)\n",
    "        for i in range(epos_iterations):\n",
    "            next(reader)\n",
    "        \n",
    "        for rows in reader:\n",
    "            selected_plans = rows[2:]\n",
    "            \n",
    "            for agent in included:\n",
    "                hist[int(selected_plans[agent])]+=1\n",
    "            break"
   ]
  },
  {
   "cell_type": "code",
   "execution_count": 5,
   "metadata": {},
   "outputs": [
    {
     "data": {
      "text/plain": [
       "2100"
      ]
     },
     "execution_count": 5,
     "metadata": {},
     "output_type": "execute_result"
    }
   ],
   "source": [
    "sum(hist)"
   ]
  },
  {
   "cell_type": "code",
   "execution_count": 6,
   "metadata": {},
   "outputs": [],
   "source": [
    "freq = [x/sum(hist) for x in hist]"
   ]
  },
  {
   "cell_type": "code",
   "execution_count": 7,
   "metadata": {},
   "outputs": [
    {
     "data": {
      "text/plain": [
       "Text(0.5,1,'Selected plans: alpha=0.00, beta=0.00')"
      ]
     },
     "execution_count": 7,
     "metadata": {},
     "output_type": "execute_result"
    },
    {
     "data": {
      "image/png": "[encoded data removed]",
      "text/plain": [
       "<matplotlib.figure.Figure at 0x7f241e86e978>"
      ]
     },
     "metadata": {},
     "output_type": "display_data"
    }
   ],
   "source": [
    "color = [x / 255 for x in [255,76,76]]\n",
    "plt.bar(list(range(n_plans)),freq,width=1,color=color)\n",
    "plt.xticks(list(range(n_plans)), list(range(n_plans)))\n",
    "plt.xlabel('Plan index')\n",
    "plt.ylabel('Frequency')\n",
    "plt.title('Selected plans: alpha=%.2f, beta=%.2f'%(alpha,beta))"
   ]
  },
  {
   "cell_type": "code",
   "execution_count": null,
   "metadata": {},
   "outputs": [],
   "source": []
  },
  {
   "cell_type": "code",
   "execution_count": null,
   "metadata": {},
   "outputs": [],
   "source": []
  }
 ],
 "metadata": {
  "kernelspec": {
   "display_name": "Python 3",
   "language": "python",
   "name": "python3"
  },
  "language_info": {
   "codemirror_mode": {
    "name": "ipython",
    "version": 3
   },
   "file_extension": ".py",
   "mimetype": "text/x-python",
   "name": "python",
   "nbconvert_exporter": "python",
   "pygments_lexer": "ipython3",
   "version": "3.6.4"
  }
 },
 "nbformat": 4,
 "nbformat_minor": 2
}
