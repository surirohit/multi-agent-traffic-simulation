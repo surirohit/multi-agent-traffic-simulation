{
 "cells": [
  {
   "cell_type": "markdown",
   "metadata": {},
   "source": [
    "# Route Generator\n",
    "\n",
    "## Inputs\n",
    "- File containing the road network\n",
    "- File containing the link parameters such as travel time, waiting time, toll fare.\n",
    "- File containing the position, destination for each agent\n",
    "- File containing the agent parameters\n",
    "\n",
    "## Outputs\n",
    "- File containing plans for all agents with scores"
   ]
  },
  {
   "cell_type": "code",
   "execution_count": null,
   "metadata": {},
   "outputs": [],
   "source": [
    "import networkx as nx\n",
    "from matplotlib import pyplot as plt\n",
    "import numpy as np\n",
    "import random\n",
    "import os\n",
    "import xml.etree.ElementTree as et\n",
    "\n",
    "%matplotlib inline"
   ]
  },
  {
   "cell_type": "markdown",
   "metadata": {},
   "source": [
    "### Helper Functions"
   ]
  },
  {
   "cell_type": "code",
   "execution_count": null,
   "metadata": {},
   "outputs": [],
   "source": [
    "def drawNetwork(G):\n",
    "    '''\n",
    "    Helper function to plot the network for visualization\n",
    "    \n",
    "    Return values:\n",
    "        G - road network as a networkx graph\n",
    "    '''\n",
    "    pos = nx.get_node_attributes(G, 'pos')\n",
    "    plt.figure(figsize=(12, 12))    \n",
    "    nx.draw(G,pos,labels={node:node for node in G.nodes()},node_color='g')\n",
    "    edge_labels = {\n",
    "        (a,b):\n",
    "        \"%.2f\" % round(nx.get_edge_attributes(G,'p_1')[(a,b) if a<b else (b,a)],2) + ', ' +\n",
    "        \"%.2f\" % round(nx.get_edge_attributes(G,'p_2')[(a,b) if a<b else (b,a)],2) + ', ' +\n",
    "        \"%.2f\" % round(nx.get_edge_attributes(G,'p_3')[(a,b) if a<b else (b,a)],2) + ', ' +\n",
    "        \"%.2f\" % round(nx.get_edge_attributes(G,'p_4')[(a,b) if a<b else (b,a)],2) + '\\n' +\n",
    "        \"%.2f\" % round(nx.get_edge_attributes(G,'p_1')[(a,b) if a>b else (b,a)],2) + ', ' +\n",
    "        \"%.2f\" % round(nx.get_edge_attributes(G,'p_2')[(a,b) if a>b else (b,a)],2) + ', ' +\n",
    "        \"%.2f\" % round(nx.get_edge_attributes(G,'p_3')[(a,b) if a>b else (b,a)],2) + ', ' +\n",
    "        \"%.2f\" % round(nx.get_edge_attributes(G,'p_4')[(a,b) if a>b else (b,a)],2)\n",
    "        for a,b in G.edges()}\n",
    "    nx.draw_networkx_edge_labels(G,pos,edge_labels=edge_labels,font_color='r')\n",
    "    plt.axis('off')\n",
    "    plt.show()"
   ]
  },
  {
   "cell_type": "markdown",
   "metadata": {},
   "source": [
    "### Parameters"
   ]
  },
  {
   "cell_type": "code",
   "execution_count": null,
   "metadata": {},
   "outputs": [],
   "source": [
    "n_params = 4 # No. of link parameters\n",
    "\n",
    "node_file = '../config/SUMO/test.nod.xml'\n",
    "\n",
    "# Temporary Parameters\n",
    "N = 4 # No. of rows in grid\n",
    "M = 5 # No. of cols in grid\n",
    "n_agents = 40 # No. of agents to generate plans"
   ]
  },
  {
   "cell_type": "markdown",
   "metadata": {},
   "source": [
    "### Core Functionality"
   ]
  },
  {
   "cell_type": "code",
   "execution_count": null,
   "metadata": {},
   "outputs": [],
   "source": [
    "def getNetworkFromFile(path):\n",
    "    '''\n",
    "    Creates a network using the networkx library using the file containing the road network\n",
    "    \n",
    "    Parameters:\n",
    "        path    - path to input file containing road network\n",
    "    \n",
    "    Return values:\n",
    "        G       - graph of networkx which contains the road network \n",
    "        n_nodes - number of nodes read\n",
    "    '''\n",
    "    \n",
    "    # TODO: Instead of making network, read from file\n",
    "    \n",
    "    global N,M\n",
    "    \n",
    "    G = nx.DiGraph()\n",
    "    \n",
    "    # Adding N*M nodes to graph\n",
    "    for i in range(N*M):\n",
    "        # These positions are only for visualization since (0,0) is \n",
    "        # on the bottom left side\n",
    "        G.add_node(str(i+1),pos=(i%M+1,4-int(i/M)))\n",
    "        \n",
    "    n_nodes = N*M\n",
    "    \n",
    "    return G, n_nodes"
   ]
  },
  {
   "cell_type": "code",
   "execution_count": null,
   "metadata": {},
   "outputs": [],
   "source": [
    "def getNetworkWithLinkParameters(G, path):\n",
    "    '''\n",
    "    Adds the link parameters (waiting time, travel time, etc to the road network)\n",
    "    \n",
    "    Parameters:\n",
    "        G       - input road network as a networkx graph\n",
    "        path    - path to input file containing network parameters\n",
    "        \n",
    "    Return values:\n",
    "        G       - road network with parameters added\n",
    "        n_links - number of links read\n",
    "    '''\n",
    "    \n",
    "    # TODO: Read this dict from file\n",
    "    \n",
    "    \n",
    "    global N,M,n_params\n",
    "    \n",
    "    # Temporarily using normal distribution (1,0.2) and 4 parameters \n",
    "    \n",
    "    link_idx = 0;\n",
    "    \n",
    "    # All nodes will have an edge to the node on their right side\n",
    "    # except the last column\n",
    "    for i in range(N):\n",
    "        for j in range(M-1):\n",
    "            G.add_edge(str(M*i+j+1), str(M*i+j+2),\n",
    "                        link_id = link_idx+1, \n",
    "                        p_1=np.random.normal(1,0.2),\n",
    "                        p_2=np.random.normal(1,0.2),\n",
    "                        p_3=np.random.normal(1,0.2),\n",
    "                        p_4=np.random.normal(1,0.2))\n",
    "            link_idx = link_idx + 1\n",
    "    \n",
    "    # All nodes will have an edge to the node on their left side\n",
    "    # except the first column\n",
    "    for i in range(N):\n",
    "        for j in range(1,M):\n",
    "            G.add_edge(str(M*i+j+1), str(M*i+j), \n",
    "                        link_id = link_idx+1,  \n",
    "                        p_1=np.random.normal(1,0.2),\n",
    "                        p_2=np.random.normal(1,0.2),\n",
    "                        p_3=np.random.normal(1,0.2),\n",
    "                        p_4=np.random.normal(1,0.2))\n",
    "            link_idx = link_idx + 1\n",
    "            \n",
    "    # All nodes will have an edge to the node on their bottom side\n",
    "    # except the last row\n",
    "    for i in range(N-1):\n",
    "        for j in range(M):\n",
    "            G.add_edge(str(M*i + j+1), str(M*(i+1)+j+1), \n",
    "                        link_id = link_idx+1, \n",
    "                        p_1=np.random.normal(1,0.2),\n",
    "                        p_2=np.random.normal(1,0.2),\n",
    "                        p_3=np.random.normal(1,0.2),\n",
    "                        p_4=np.random.normal(1,0.2))\n",
    "            link_idx = link_idx + 1\n",
    "            \n",
    "    # All nodes will have an edge to the node on their top side\n",
    "    # except the first row\n",
    "    for i in range(1,N):\n",
    "        for j in range(M):\n",
    "            G.add_edge(str(M*i + j+1), str(M*(i-1)+j+1), \n",
    "                        link_id = link_idx+1,  \n",
    "                        p_1=np.random.normal(1,0.2),\n",
    "                        p_2=np.random.normal(1,0.2),\n",
    "                        p_3=np.random.normal(1,0.2),\n",
    "                        p_4=np.random.normal(1,0.2))\n",
    "            link_idx = link_idx + 1\n",
    "            \n",
    "    n_links = link_idx\n",
    "    \n",
    "    return G, n_links"
   ]
  },
  {
   "cell_type": "code",
   "execution_count": null,
   "metadata": {},
   "outputs": [],
   "source": [
    "def getAgentPreferencesFromFile(path):\n",
    "    '''\n",
    "    Read preferences of all agents from file\n",
    "    \n",
    "    Parameters:\n",
    "        path        - path to input file containing preferences\n",
    "        \n",
    "    Return values:\n",
    "        agent_prefs - dict containing preferences for each agents\n",
    "        n_prefs     - no of preferences read\n",
    "    '''\n",
    "    \n",
    "    # TODO: Read from file\n",
    "    \n",
    "    global n_agents\n",
    "    \n",
    "    prefs = {}\n",
    "    \n",
    "    for i in range(n_agents):\n",
    "        \n",
    "        agent_id = 'agent_'+str(i)\n",
    "        prefs[agent_id] = {}\n",
    "        \n",
    "        prefs[agent_id]['w_1'] = np.random.normal(1,0.2)\n",
    "        prefs[agent_id]['w_2'] = np.random.normal(1,0.2)\n",
    "        prefs[agent_id]['w_3'] = np.random.normal(1,0.2)\n",
    "        prefs[agent_id]['w_4'] = np.random.normal(1,0.2)\n",
    "        \n",
    "    n_prefs = n_agents\n",
    "    \n",
    "    return prefs, n_prefs    "
   ]
  },
  {
   "cell_type": "code",
   "execution_count": null,
   "metadata": {},
   "outputs": [],
   "source": [
    "def getTripsFromFile(path):\n",
    "    '''\n",
    "    Read trips of all agents from file\n",
    "    \n",
    "    Parameters:\n",
    "        path    - path to input file containing all trips\n",
    "        \n",
    "    Return values:\n",
    "        trips   - list containing trips for each agent\n",
    "        n_trips - number of trips read\n",
    "    '''\n",
    "    \n",
    "    # TODO: Read from file\n",
    "    \n",
    "    global n_agents, N, M\n",
    "    \n",
    "    # Trip structure is shown below\n",
    "    # trips = {'agent_1': ('2','3'),\n",
    "    #          'agent_2': ('7','4'),\n",
    "    #           ...}\n",
    "    \n",
    "    trips = {}\n",
    "    \n",
    "    for i in range(n_agents):\n",
    "        \n",
    "        agent_id = 'agent_'+str(i)\n",
    "        source_node = str(random.randint(1,N*M))\n",
    "        dest_node = str(random.randint(1,N*M))\n",
    "        \n",
    "        # Ensuring that source and destination nodes are different\n",
    "        while source_node==dest_node:\n",
    "            dest_node = str(random.randint(1,N*M+1))\n",
    "        \n",
    "        \n",
    "        trips[agent_id] = (source_node, dest_node)\n",
    "        \n",
    "    n_trips = n_agents\n",
    "    \n",
    "    return trips, n_trips"
   ]
  },
  {
   "cell_type": "code",
   "execution_count": null,
   "metadata": {},
   "outputs": [],
   "source": [
    "def getPlansForTrips(G, trips, agent_prefs, n_links):\n",
    "    '''\n",
    "    Inputs trips and generates plans\n",
    "    \n",
    "    Parameters:\n",
    "        G           - road network as a networkx graph\n",
    "        trips       - list containing trips for all agents \n",
    "        agent_prefs - dict containing agent preferences\n",
    "        n_links     - number of links in the road network \n",
    "        \n",
    "    Return values:\n",
    "        plans       - dict containing plans for each agent\n",
    "    '''\n",
    "    \n",
    "    # Plan structure is shown below\n",
    "    # plans = {'agent_1':{'plan_1':[0,0,1,0,1,0,0],\n",
    "    #                     'plan_2':[0,1,0,0,0,1,0],\n",
    "    #                     'plan_3':[0,0,1,0,0,0,1],\n",
    "    #                     'plan_4':[1,0,0,0,1,0,0],\n",
    "    #                     'cost_1':1.34,\n",
    "    #                     'cost_2':1.07,\n",
    "    #                     'cost_3':1.71,\n",
    "    #                     'cost_4':1.92},\n",
    "    #          'agent_2':{'plan_1':[0,0,1,0,1,0,0],\n",
    "    #                     'plan_2':[0,1,0,0,0,1,0],\n",
    "    #                     'plan_3':[0,0,1,0,0,0,1],\n",
    "    #                     'plan_4':[1,0,0,0,1,0,0],\n",
    "    #                     'score_1':1.34,\n",
    "    #                     'score_2':1.07,\n",
    "    #                     'score_3':1.71,\n",
    "    #                     'score_4':1.92},\n",
    "    #          ... }\n",
    "    \n",
    "    \n",
    "    plans = {}\n",
    "    \n",
    "    plan = [0] * n_links # plan = [0 0 0 0 ... 0] \n",
    "    \n",
    "    ids = nx.get_edge_attributes(G,'link_id')\n",
    "    \n",
    "    params = {}\n",
    "    for i in range(n_params):\n",
    "        params['p_'+str(i+1)] = nx.get_edge_attributes(G,'p_'+str(i+1))\n",
    "        \n",
    "    for agent_id, trip in trips.items():\n",
    "        \n",
    "        plans[agent_id] = {}\n",
    "        \n",
    "        # getting preferences for current agent\n",
    "        this_prefs = agent_prefs[agent_id]\n",
    "        \n",
    "        for i in range(n_params):    \n",
    "            \n",
    "            # creating a copy of template\n",
    "            this_plan = list(plan)\n",
    "            \n",
    "            # getting route based on minimizing parameter p_i\n",
    "            route = nx.dijkstra_path(G, trip[0], trip[1], 'p_'+str(i+1))\n",
    "            this_score = 0\n",
    "            \n",
    "            for j in range(len(route)-1):\n",
    "                # setting my_plan[link_id] = 1 if link used\n",
    "                this_link = (route[j],route[j+1])\n",
    "                this_plan[ids[this_link]-1] = 1\n",
    "                \n",
    "                # adding link costs weighted with preferences to score\n",
    "                for k in range(n_params):\n",
    "                    this_score += params['p_'+str(k+1)][this_link] * this_prefs['w_'+str(k+1)]\n",
    "            \n",
    "            plans[agent_id]['plan_'+str(i+1)] = this_plan\n",
    "            plans[agent_id]['score_'+str(i+1)] = this_score\n",
    "    \n",
    "    return plans"
   ]
  },
  {
   "cell_type": "code",
   "execution_count": null,
   "metadata": {},
   "outputs": [],
   "source": [
    "def writePlansToFiles(dataset_path,plans):\n",
    "    '''\n",
    "    Writes agent plans to file\n",
    "    \n",
    "    Parameters:\n",
    "        dataset_path - path to write the plans\n",
    "        plans        - agent plans\n",
    "    \n",
    "    Return values:\n",
    "        None\n",
    "    '''\n",
    "    if not os.path.exists(dataset_path):\n",
    "        os.makedirs(dataset_path)\n",
    "    for agent in plans:\n",
    "        filename = agent + '.plans'\n",
    "        with open(os.path.join(dataset_path, filename), 'w') as f:\n",
    "            for i in range(1,5):\n",
    "                cost_str = str(plans[agent]['score_'+str(i)])\n",
    "                plan_str = ','.join(map(str, plans[agent]['plan_'+str(i)]))\n",
    "                f.write(cost_str+\":\"+plan_str+\"\\n\")"
   ]
  },
  {
   "cell_type": "markdown",
   "metadata": {},
   "source": [
    "### Main Script"
   ]
  },
  {
   "cell_type": "code",
   "execution_count": null,
   "metadata": {},
   "outputs": [],
   "source": [
    "G, n_nodes = getNetworkFromFile('path/to/foo')\n",
    "print('Generating road network with', n_nodes, 'nodes')"
   ]
  },
  {
   "cell_type": "code",
   "execution_count": null,
   "metadata": {},
   "outputs": [],
   "source": [
    "G, n_links = getNetworkWithLinkParameters(G,'path/to/foo')\n",
    "print('Added', n_links, 'links to the network')"
   ]
  },
  {
   "cell_type": "code",
   "execution_count": null,
   "metadata": {},
   "outputs": [],
   "source": [
    "trips, n_trips = getTripsFromFile('path/to/foo')\n",
    "print(n_trips,'trips read from file')"
   ]
  },
  {
   "cell_type": "code",
   "execution_count": null,
   "metadata": {},
   "outputs": [],
   "source": [
    "agent_prefs, n_prefs = getAgentPreferencesFromFile('path/to/foo')\n",
    "print(n_prefs,'preferences read from file')"
   ]
  },
  {
   "cell_type": "code",
   "execution_count": null,
   "metadata": {},
   "outputs": [],
   "source": [
    "plans = getPlansForTrips(G, trips, agent_prefs, n_links)"
   ]
  },
  {
   "cell_type": "code",
   "execution_count": null,
   "metadata": {},
   "outputs": [],
   "source": [
    "writePlansToFiles('dataset/',plans)"
   ]
  },
  {
   "cell_type": "markdown",
   "metadata": {},
   "source": [
    "### NOTE:\n",
    "The weights shown above the edge are of the link which goes from the node with smaller id to the node with larger id"
   ]
  },
  {
   "cell_type": "code",
   "execution_count": null,
   "metadata": {},
   "outputs": [],
   "source": [
    "drawNetwork(G)"
   ]
  },
  {
   "cell_type": "markdown",
   "metadata": {},
   "source": [
    "## DEVEL SECTION"
   ]
  },
  {
   "cell_type": "code",
   "execution_count": null,
   "metadata": {},
   "outputs": [],
   "source": [
    "def getNetworkFromFileDev(path):\n",
    "    '''\n",
    "    Creates a network using the networkx library using the file containing the road network\n",
    "    \n",
    "    Parameters:\n",
    "        path    - path to input file containing road network\n",
    "    \n",
    "    Return values:\n",
    "        G       - graph of networkx which contains the road network \n",
    "        n_nodes - number of nodes read\n",
    "    '''\n",
    "   \n",
    "    root = et.parse(path).getroot()\n",
    "    \n",
    "    G = nx.DiGraph()\n",
    "    \n",
    "    for child in root:\n",
    "        G.add_node(child.attrib['id'],\n",
    "                   pos=(int(child.attrib['x']),int(child.attrib['y'])))\n",
    "    \n",
    "    n_nodes = len(root.getchildren())\n",
    "    \n",
    "    return G,n_nodes"
   ]
  },
  {
   "cell_type": "code",
   "execution_count": null,
   "metadata": {},
   "outputs": [],
   "source": [
    "G, n_nodes = getNetworkFromFileDev(node_file)\n",
    "print('Generating road network with', n_nodes, 'nodes')"
   ]
  },
  {
   "cell_type": "code",
   "execution_count": null,
   "metadata": {},
   "outputs": [],
   "source": [
    "drawNetwork(G)"
   ]
  }
 ],
 "metadata": {
  "kernelspec": {
   "display_name": "Python 3",
   "language": "python",
   "name": "python3"
  },
  "language_info": {
   "codemirror_mode": {
    "name": "ipython",
    "version": 3
   },
   "file_extension": ".py",
   "mimetype": "text/x-python",
   "name": "python",
   "nbconvert_exporter": "python",
   "pygments_lexer": "ipython3",
   "version": "3.6.4"
  }
 },
 "nbformat": 4,
 "nbformat_minor": 2
}
