{
 "cells": [
  {
   "cell_type": "code",
   "execution_count": 18,
   "metadata": {},
   "outputs": [],
   "source": [
    "import xml.etree.ElementTree as et\n",
    "import numpy as np"
   ]
  },
  {
   "cell_type": "code",
   "execution_count": 19,
   "metadata": {},
   "outputs": [],
   "source": [
    "path = '../output/edgeData-outputNewGrid.xml'\n",
    "root = et.parse(path).getroot()"
   ]
  },
  {
   "cell_type": "code",
   "execution_count": 26,
   "metadata": {},
   "outputs": [],
   "source": [
    "edges = {}\n",
    "\n",
    "travel_sum = 0\n",
    "travel_count = 0\n",
    "wait_sum = 0\n",
    "wait_count = 0\n",
    "\n",
    "for edge in root.findall(\".//edge\"):\n",
    "    info = edge.attrib\n",
    "    edges[info['id']] = {}\n",
    "    try:\n",
    "        edges[info['id']]['waiting'] = float(info['waitingTime'])\n",
    "        if float(info['waitingTime'])!=0:\n",
    "            wait_sum += float(info['waitingTime'])\n",
    "            wait_count += 1\n",
    "        else:\n",
    "            edges[info['id']]['waiting'] = 0.001\n",
    "        \n",
    "    except KeyError:\n",
    "        edges[info['id']]['waiting'] = 0.001\n",
    "    \n",
    "    try:\n",
    "        edges[info['id']]['travel'] = float(info['traveltime'])\n",
    "        if float(info['traveltime'])!=0:\n",
    "            travel_sum += float(info['traveltime'])\n",
    "            travel_count += 1\n",
    "        else:\n",
    "            edges[info['id']]['travel'] = 0.001\n",
    "            \n",
    "    except KeyError:\n",
    "        edges[info['id']]['travel'] = 0.001\n",
    "    "
   ]
  },
  {
   "cell_type": "code",
   "execution_count": 27,
   "metadata": {},
   "outputs": [
    {
     "name": "stdout",
     "output_type": "stream",
     "text": [
      "19.831730103806244 29.453237410071942\n"
     ]
    }
   ],
   "source": [
    "print(travel_sum/travel_count,wait_sum/wait_count)"
   ]
  },
  {
   "cell_type": "code",
   "execution_count": 28,
   "metadata": {},
   "outputs": [],
   "source": [
    "toll_mean = ((travel_sum/travel_count)+(wait_sum/wait_count))\n",
    "toll_std = 10\n",
    "\n",
    "percentage_tolls = 5\n",
    "\n",
    "for edge in edges:\n",
    "    toll_present = np.random.uniform(0,100,1) < percentage_tolls\n",
    "    if toll_present:\n",
    "        edges[edge]['toll'] = np.random.normal(toll_mean,toll_std)\n",
    "        if edges[edge]['toll'] < 0:\n",
    "            edges[edge]['toll'] = 0\n",
    "    else:\n",
    "        edges[edge]['toll'] = 0"
   ]
  },
  {
   "cell_type": "code",
   "execution_count": 29,
   "metadata": {},
   "outputs": [],
   "source": [
    "with open(\"link.csv\",\"w\") as f:\n",
    "    f.write(\"Link,Travel,Waiting,Fuel,Toll\\n\")\n",
    "    for edge in edges:\n",
    "        p = edges[edge]\n",
    "        f.write(\"%s,%f,%f,%f,%f\\n\"%(edge,p['travel'],p['waiting'],0.0,p['toll']))\n",
    "    f.close()"
   ]
  },
  {
   "cell_type": "code",
   "execution_count": null,
   "metadata": {},
   "outputs": [],
   "source": []
  }
 ],
 "metadata": {
  "kernelspec": {
   "display_name": "Python 3",
   "language": "python",
   "name": "python3"
  },
  "language_info": {
   "codemirror_mode": {
    "name": "ipython",
    "version": 3
   },
   "file_extension": ".py",
   "mimetype": "text/x-python",
   "name": "python",
   "nbconvert_exporter": "python",
   "pygments_lexer": "ipython3",
   "version": "3.6.4"
  }
 },
 "nbformat": 4,
 "nbformat_minor": 2
}
