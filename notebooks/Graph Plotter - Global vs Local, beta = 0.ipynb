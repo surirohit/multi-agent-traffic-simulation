{
 "cells": [
  {
   "cell_type": "code",
   "execution_count": null,
   "metadata": {},
   "outputs": [],
   "source": [
    "import os\n",
    "import csv\n",
    "import numpy as np\n",
    "import matplotlib.pyplot as plt"
   ]
  },
  {
   "cell_type": "code",
   "execution_count": null,
   "metadata": {},
   "outputs": [],
   "source": [
    "scenario='sample'\n",
    "output_folder = '../output/'\n",
    "epos_iterations = 40"
   ]
  },
  {
   "cell_type": "code",
   "execution_count": null,
   "metadata": {},
   "outputs": [],
   "source": [
    "alphas = [x/100 for x in range(0, 101, 20)]\n",
    "beta=0"
   ]
  },
  {
   "cell_type": "code",
   "execution_count": null,
   "metadata": {},
   "outputs": [],
   "source": [
    "mean_unfairness = [0]*len(alphas)\n",
    "std_unfairness = [0]*len(alphas)\n",
    "\n",
    "for a in range(len(alphas)):\n",
    "    alphas = alphas[a]\n",
    "    \n",
    "    for t in range(0,6001,300):\n",
    "        curr_folder = os.path.join(output_folder,\"%s-%.2f-%.2f\"%(scenario,alpha,beta),'t_%d'%t)\n",
    "        \n",
    "        unfairness_file = os.path.join(curr_folder,'global-cost.csv')\n",
    "        with open(unfairness_file, mode='r') as infile:\n",
    "            reader = csv.reader(infile)\n",
    "            \n",
    "            for i in range(epos_iterations):\n",
    "                next(reader)\n",
    "\n",
    "            for rows in reader:\n",
    "                this_mean_unfairness = float(rows[1])\n",
    "                this_std_unfairness = float(rows[2])\n",
    "                if np.isnan(this_mean_unfairness):\n",
    "                    this_mean_unfairness = 0\n",
    "                if np.isnan(this_std_unfairness):\n",
    "                    this_std_unfairness = 0\n",
    "\n",
    "                mean_unfairness[b] += this_mean_unfairness\n",
    "                std_unfairness[b] += this_std_unfairness\n",
    "\n",
    "                break"
   ]
  },
  {
   "cell_type": "code",
   "execution_count": null,
   "metadata": {},
   "outputs": [],
   "source": [
    "color = [x / 255 for x in [148,0,211]]\n",
    "color_fill = [x / 255 for x in [238,130,238]]\n",
    "\n",
    "y_upper = [a_i + b_i for a_i, b_i in zip(mean_unfairness,std_unfairness)]\n",
    "y_lower = [a_i - b_i for a_i, b_i in zip(mean_unfairness,std_unfairness)]\n",
    "\n",
    "plt.plot(alphas,std_unfairness,color=color)    \n",
    "plt.fill_between(alphas,y_upper,y_lower,color=color_fill)    \n",
    "plt.ylabel('Unfairness')\n",
    "plt.xlabel(r'$\\alpha$')\n",
    "plt.title('Global vs Local Objectives')"
   ]
  }
 ],
 "metadata": {
  "kernelspec": {
   "display_name": "Python 3",
   "language": "python",
   "name": "python3"
  },
  "language_info": {
   "codemirror_mode": {
    "name": "ipython",
    "version": 3
   },
   "file_extension": ".py",
   "mimetype": "text/x-python",
   "name": "python",
   "nbconvert_exporter": "python",
   "pygments_lexer": "ipython3",
   "version": "3.6.4"
  }
 },
 "nbformat": 4,
 "nbformat_minor": 2
}
