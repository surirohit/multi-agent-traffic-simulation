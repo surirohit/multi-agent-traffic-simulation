{
 "cells": [
  {
   "cell_type": "code",
   "execution_count": 1,
   "metadata": {},
   "outputs": [],
   "source": [
    "import numpy as np"
   ]
  },
  {
   "cell_type": "code",
   "execution_count": 2,
   "metadata": {},
   "outputs": [],
   "source": [
    "mu = [0.6, 0.8, 0.4, 0.2] # means\n",
    "sigma =  [0.1, 0.1, 0.1, 0.4] # standard deviations\n",
    "#sigma =  [0, 0, 0, 0] # standard deviations"
   ]
  },
  {
   "cell_type": "code",
   "execution_count": 3,
   "metadata": {},
   "outputs": [],
   "source": [
    "n_agents = 4000\n",
    "n_params = 4\n",
    "\n",
    "weights =np.zeros((n_agents,n_params))"
   ]
  },
  {
   "cell_type": "code",
   "execution_count": 4,
   "metadata": {},
   "outputs": [],
   "source": [
    "for i in range(n_params):\n",
    "    weights[:,i] = np.random.normal(mu[i], sigma[i], n_agents)\n",
    "\n",
    "weights[weights < 0] = 0\n",
    "weights[weights > 1] = 1"
   ]
  },
  {
   "cell_type": "code",
   "execution_count": 5,
   "metadata": {},
   "outputs": [],
   "source": [
    "with open(\"preferences.csv\",\"w\") as f:\n",
    "    f.write(\"Agent\")\n",
    "    for j in range(n_params):\n",
    "        f.write(\",w_%d\"%j)\n",
    "    f.write(\"\\n\")\n",
    "    \n",
    "    for i in range(n_agents):\n",
    "        f.write(\"agent_%d\"%i)\n",
    "        for j in range(n_params):\n",
    "            f.write(\",%f\"%weights[i,j])\n",
    "        f.write(\"\\n\")\n",
    "    f.close()"
   ]
  },
  {
   "cell_type": "code",
   "execution_count": null,
   "metadata": {},
   "outputs": [],
   "source": []
  }
 ],
 "metadata": {
  "kernelspec": {
   "display_name": "Python 3",
   "language": "python",
   "name": "python3"
  },
  "language_info": {
   "codemirror_mode": {
    "name": "ipython",
    "version": 3
   },
   "file_extension": ".py",
   "mimetype": "text/x-python",
   "name": "python",
   "nbconvert_exporter": "python",
   "pygments_lexer": "ipython3",
   "version": "3.6.4"
  }
 },
 "nbformat": 4,
 "nbformat_minor": 2
}
