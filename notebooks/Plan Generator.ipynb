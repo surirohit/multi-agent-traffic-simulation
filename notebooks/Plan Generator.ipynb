{
 "cells": [
  {
   "cell_type": "markdown",
   "metadata": {},
   "source": [
    "# Route Generator\n",
    "\n",
    "## Inputs\n",
    "- File containing the road network\n",
    "- File containing the link parameters such as travel time, waiting time, toll fare.\n",
    "- File containing the position, destination for each agent\n",
    "- File containing the agent parameters\n",
    "\n",
    "## Outputs\n",
    "- File containing plans for all agents with scores"
   ]
  },
  {
   "cell_type": "code",
   "execution_count": 1,
   "metadata": {},
   "outputs": [],
   "source": [
    "import networkx as nx\n",
    "from matplotlib import pyplot as plt\n",
    "import numpy as np\n",
    "import random\n",
    "import os\n",
    "import xml.etree.ElementTree as et\n",
    "import csv \n",
    "\n",
    "%matplotlib inline"
   ]
  },
  {
   "cell_type": "markdown",
   "metadata": {},
   "source": [
    "### Helper Functions"
   ]
  },
  {
   "cell_type": "code",
   "execution_count": 2,
   "metadata": {},
   "outputs": [],
   "source": [
    "def drawNetwork(G, show_edge_information=True):\n",
    "    '''\n",
    "    Helper function to plot the network for visualization\n",
    "    \n",
    "    Return values:\n",
    "        G - road network as a networkx graph\n",
    "    '''\n",
    "    pos = nx.get_node_attributes(G, 'pos')\n",
    "    plt.figure(figsize=(12, 12))    \n",
    "    nx.draw(G,pos,labels={node:node for node in G.nodes()},node_color='g')\n",
    "    if show_edge_information:\n",
    "        edge_labels = {\n",
    "            (a,b):\n",
    "            \"%.2f\" % round(nx.get_edge_attributes(G,'p_1')[(a,b) if a<b else (b,a)],2) + ', ' +\n",
    "            \"%.2f\" % round(nx.get_edge_attributes(G,'p_2')[(a,b) if a<b else (b,a)],2) + ', ' +\n",
    "            \"%.2f\" % round(nx.get_edge_attributes(G,'p_3')[(a,b) if a<b else (b,a)],2) + ', ' +\n",
    "            \"%.2f\" % round(nx.get_edge_attributes(G,'p_4')[(a,b) if a<b else (b,a)],2) + '\\n' +\n",
    "            \"%.2f\" % round(nx.get_edge_attributes(G,'p_1')[(a,b) if a>b else (b,a)],2) + ', ' +\n",
    "            \"%.2f\" % round(nx.get_edge_attributes(G,'p_2')[(a,b) if a>b else (b,a)],2) + ', ' +\n",
    "            \"%.2f\" % round(nx.get_edge_attributes(G,'p_3')[(a,b) if a>b else (b,a)],2) + ', ' +\n",
    "            \"%.2f\" % round(nx.get_edge_attributes(G,'p_4')[(a,b) if a>b else (b,a)],2)\n",
    "            for a,b in G.edges()}\n",
    "        nx.draw_networkx_edge_labels(G,pos,edge_labels=edge_labels,font_color='r')\n",
    "    plt.axis('off')\n",
    "    plt.show()"
   ]
  },
  {
   "cell_type": "markdown",
   "metadata": {},
   "source": [
    "### Parameters"
   ]
  },
  {
   "cell_type": "code",
   "execution_count": 3,
   "metadata": {},
   "outputs": [],
   "source": [
    "n_params = 4 # No. of link parameters\n",
    "n_plans = 4 # No. of plans per agent\n",
    "interval = 5*60 # Number of seconds each iteration\n",
    "max_time_per_plan = 10*60 # Number of seconds to generate plans for\n",
    "\n",
    "\n",
    "nodes_file = '../config/SUMO/testNewGrid.nod.xml'\n",
    "edges_file = '../config/SUMO/testNewGrid.edg.xml'\n",
    "prefs_file = '../config/Agents/preferences.csv'\n",
    "trips_file = '../config/Agents/trips.csv'\n",
    "dataset_path = '../output/dataset/'\n",
    "\n",
    "\n",
    "current_time = 0*60"
   ]
  },
  {
   "cell_type": "markdown",
   "metadata": {},
   "source": [
    "### Core Functionality"
   ]
  },
  {
   "cell_type": "code",
   "execution_count": 4,
   "metadata": {},
   "outputs": [],
   "source": [
    "def getNetworkFromFile(path):\n",
    "    '''\n",
    "    Creates a network using the networkx library using the file containing the road network\n",
    "    \n",
    "    Parameters:\n",
    "        path    - path to input file containing road network\n",
    "    \n",
    "    Return values:\n",
    "        G       - graph of networkx which contains the road network \n",
    "        n_nodes - number of nodes read\n",
    "    '''\n",
    "   \n",
    "    root = et.parse(path).getroot()\n",
    "    \n",
    "    G = nx.DiGraph()\n",
    "    \n",
    "    for child in root:\n",
    "        G.add_node(child.attrib['id'],\n",
    "                   pos=(int(child.attrib['x']),int(child.attrib['y'])))\n",
    "    \n",
    "    n_nodes = len(root.getchildren())\n",
    "    \n",
    "    return G,n_nodes"
   ]
  },
  {
   "cell_type": "code",
   "execution_count": 5,
   "metadata": {},
   "outputs": [],
   "source": [
    "def getNetworkWithLinkParameters(G, path):\n",
    "    '''\n",
    "    Adds the link parameters (waiting time, travel time, etc to the road network)\n",
    "    \n",
    "    Parameters:\n",
    "        G       - input road network as a networkx graph\n",
    "        path    - path to input file containing network parameters\n",
    "        \n",
    "    Return values:\n",
    "        G       - road network with parameters added\n",
    "        n_links - number of links read\n",
    "    '''\n",
    "    \n",
    "    n_links = 0\n",
    "    root = et.parse(path).getroot()\n",
    "    for child in root:\n",
    "        G.add_edge(child.attrib['from'], child.attrib['to'],\n",
    "                   link_id = child.attrib['id'],\n",
    "                   easy_link_id = n_links,\n",
    "                   p_1=np.random.normal(1,0.2),\n",
    "                   p_2=np.random.normal(1,0.2),\n",
    "                   p_3=np.random.normal(1,0.2),\n",
    "                   p_4=np.random.normal(1,0.2))\n",
    "        n_links = n_links + 1\n",
    "    \n",
    "    return G, n_links"
   ]
  },
  {
   "cell_type": "code",
   "execution_count": 6,
   "metadata": {},
   "outputs": [],
   "source": [
    "def getAgentPreferencesFromFile(path):\n",
    "    '''\n",
    "    Read preferences of all agents from file\n",
    "    \n",
    "    Parameters:\n",
    "        path        - path to input file containing preferences\n",
    "        \n",
    "    Return values:\n",
    "        agent_prefs - dict containing preferences for each agents\n",
    "        n_prefs     - no of preferences read\n",
    "    '''\n",
    "    \n",
    "    with open(path, mode='r') as infile:\n",
    "        reader = csv.reader(infile)\n",
    "        num_vals = len(next(reader)) - 1 \n",
    "        agent_prefs = {rows[0]:{'w_'+str(i+1):float(rows[i+1]) for i in range(num_vals)} for rows in reader}\n",
    "    \n",
    "    n_prefs = len(agent_prefs)\n",
    "    \n",
    "    return agent_prefs, n_prefs    "
   ]
  },
  {
   "cell_type": "code",
   "execution_count": 7,
   "metadata": {},
   "outputs": [],
   "source": [
    "def getTripsFromFile(path):\n",
    "    '''\n",
    "    Read trips of all agents from file\n",
    "    \n",
    "    Parameters:\n",
    "        path          - path to input file containing all trips\n",
    "        \n",
    "    Return values:\n",
    "        agent_trips   - list containing trips for each agent\n",
    "        n_trips       - number of trips read\n",
    "    '''\n",
    "    \n",
    "    with open(path, mode='r') as infile:\n",
    "        reader = csv.reader(infile)\n",
    "        num_vals = len(next(reader)) - 1 \n",
    "        agent_trips = {rows[0]:{'start':int(rows[1]),'dest':int(rows[2]),'time':int(rows[3])} for rows in reader}\n",
    "    \n",
    "    n_trips = len(agent_trips)\n",
    "    \n",
    "    return agent_trips, n_trips"
   ]
  },
  {
   "cell_type": "code",
   "execution_count": 8,
   "metadata": {},
   "outputs": [],
   "source": [
    "def getCompletedTripsFromFile(path):\n",
    "    '''\n",
    "    Inputs file which has list of agents which completed\n",
    "    their trips upto the previous iteration\n",
    "    \n",
    "    Parameters:\n",
    "        path            - path to file containing said list\n",
    "        \n",
    "    Return values:\n",
    "        completed_trips - list read from file\n",
    "    '''\n",
    "    \n",
    "    completed_trips = []\n",
    "    return completed_trips"
   ]
  },
  {
   "cell_type": "code",
   "execution_count": 9,
   "metadata": {},
   "outputs": [],
   "source": [
    "def getPlansForTrips(G, agent_trips, agent_prefs, n_links):\n",
    "    '''\n",
    "    Inputs trips and generates plans\n",
    "    \n",
    "    Parameters:\n",
    "        G           - road network as a networkx graph\n",
    "        agent_trips - list containing trips for all agents \n",
    "        agent_prefs - dict containing agent preferences\n",
    "        n_links     - number of links in the road network \n",
    "        \n",
    "    Return values:\n",
    "        plans       - dict containing plans for each agent\n",
    "    '''\n",
    "    \n",
    "    # Plan structure is shown below\n",
    "    # plans = {'agent_1':{'plan_1':[0,0,1,0,1,0,0],\n",
    "    #                     'plan_2':[0,1,0,0,0,1,0],\n",
    "    #                     'plan_3':[0,0,1,0,0,0,1],\n",
    "    #                     'plan_4':[1,0,0,0,1,0,0],\n",
    "    #                     'cost_1':1.34,\n",
    "    #                     'cost_2':1.07,\n",
    "    #                     'cost_3':1.71,\n",
    "    #                     'cost_4':1.92},\n",
    "    #          'agent_2':{'plan_1':[0,0,1,0,1,0,0],\n",
    "    #                     'plan_2':[0,1,0,0,0,1,0],\n",
    "    #                     'plan_3':[0,0,1,0,0,0,1],\n",
    "    #                     'plan_4':[1,0,0,0,1,0,0],\n",
    "    #                     'score_1':1.34,\n",
    "    #                     'score_2':1.07,\n",
    "    #                     'score_3':1.71,\n",
    "    #                     'score_4':1.92},\n",
    "    #          ... }\n",
    "    \n",
    "    global n_params\n",
    "    \n",
    "    plans = {}\n",
    "    \n",
    "    plan = [0] * n_links # plan = [0 0 0 0 ... 0] \n",
    "    \n",
    "    ids = nx.get_edge_attributes(G,'easy_link_id')\n",
    "    \n",
    "    params = {}\n",
    "    for i in range(n_params):\n",
    "        params['p_'+str(i+1)] = nx.get_edge_attributes(G,'p_'+str(i+1))\n",
    "        \n",
    "    for agent_id, agent_trip in agent_trips.items():\n",
    "        \n",
    "        plans[agent_id] = {}\n",
    "        \n",
    "        # getting preferences for current agent\n",
    "        this_prefs = agent_prefs[agent_id]\n",
    "        \n",
    "        for i in range(n_params):    \n",
    "            \n",
    "            # creating a copy of template\n",
    "            this_plan = list(plan)\n",
    "            \n",
    "            this_score = 0\n",
    "            this_time = 0\n",
    "            \n",
    "            # getting route based on minimizing parameter p_i\n",
    "            route = nx.dijkstra_path(G, \n",
    "                                     'n%d'%agent_trip['start'], \n",
    "                                     'n%d'%agent_trip['dest'],\n",
    "                                     'p_'+str(i+1))\n",
    "            \n",
    "            for j in range(len(route)-1):\n",
    "                # setting my_plan[link_id] = 1 if link used\n",
    "                this_link = (route[j],route[j+1])\n",
    "                \n",
    "                # The time for the plan so far is checked and the edge is set to 1 \n",
    "                # only if it is being used in the next max_time_per_plan time units\n",
    "                # However, the score is calculated for the whole plan because it is\n",
    "                # possible that a plan is saving me cost now but it later has a toll\n",
    "                # which I don't want to pay\n",
    "                if this_time < max_time_per_plan:\n",
    "                    this_plan[ids[this_link]] = 1\n",
    "                    # adding time\n",
    "                    this_time += params['p_1'][this_link]*60\n",
    "\n",
    "                # adding link costs weighted with preferences to score\n",
    "                for k in range(n_params):\n",
    "                    this_score += params['p_'+str(k+1)][this_link] * this_prefs['w_'+str(k+1)]\n",
    "            \n",
    "            plans[agent_id]['plan_'+str(i+1)] = this_plan\n",
    "            plans[agent_id]['score_'+str(i+1)] = this_score\n",
    "            plans[agent_id]['time_'+str(i+1)] = this_time\n",
    "    \n",
    "    return plans"
   ]
  },
  {
   "cell_type": "code",
   "execution_count": 10,
   "metadata": {},
   "outputs": [],
   "source": [
    "def writePlansToFiles(dataset_path,plans):\n",
    "    '''\n",
    "    Writes agent plans to file\n",
    "    \n",
    "    Parameters:\n",
    "        dataset_path - path to write the plans\n",
    "        plans        - agent plans\n",
    "    \n",
    "    Return values:\n",
    "        None\n",
    "    '''\n",
    "    global n_plans\n",
    "    \n",
    "    if not os.path.exists(dataset_path):\n",
    "        os.makedirs(dataset_path)\n",
    "    for agent in plans:\n",
    "        filename = agent + '.plans'\n",
    "        with open(os.path.join(dataset_path, filename), 'w') as f:\n",
    "            for i in range(1,n_plans+1):\n",
    "                cost_str = str(plans[agent]['score_'+str(i)])\n",
    "                plan_str = ','.join(map(str, plans[agent]['plan_'+str(i)]))\n",
    "                f.write(cost_str+\":\"+plan_str+\"\\n\")"
   ]
  },
  {
   "cell_type": "markdown",
   "metadata": {},
   "source": [
    "### Main Script"
   ]
  },
  {
   "cell_type": "code",
   "execution_count": 11,
   "metadata": {},
   "outputs": [
    {
     "name": "stdout",
     "output_type": "stream",
     "text": [
      "Generating road network with 100 nodes\n"
     ]
    }
   ],
   "source": [
    "G, n_nodes = getNetworkFromFile(nodes_file)\n",
    "print('Generating road network with', n_nodes, 'nodes')"
   ]
  },
  {
   "cell_type": "code",
   "execution_count": 12,
   "metadata": {},
   "outputs": [
    {
     "name": "stdout",
     "output_type": "stream",
     "text": [
      "Added 360 links to the network\n"
     ]
    }
   ],
   "source": [
    "G, n_links = getNetworkWithLinkParameters(G,edges_file)\n",
    "print('Added', n_links, 'links to the network')"
   ]
  },
  {
   "cell_type": "code",
   "execution_count": 13,
   "metadata": {},
   "outputs": [
    {
     "name": "stdout",
     "output_type": "stream",
     "text": [
      "100 preferences read from file\n"
     ]
    }
   ],
   "source": [
    "agent_prefs, n_prefs = getAgentPreferencesFromFile(prefs_file)\n",
    "print(n_prefs,'preferences read from file')"
   ]
  },
  {
   "cell_type": "code",
   "execution_count": 14,
   "metadata": {},
   "outputs": [
    {
     "name": "stdout",
     "output_type": "stream",
     "text": [
      "100 trips read from file\n"
     ]
    }
   ],
   "source": [
    "agent_trips, n_trips = getTripsFromFile(trips_file)\n",
    "print(n_trips,'trips read from file')"
   ]
  },
  {
   "cell_type": "code",
   "execution_count": 15,
   "metadata": {},
   "outputs": [
    {
     "name": "stdout",
     "output_type": "stream",
     "text": [
      "0 agents had completed their trips before this iteration!\n"
     ]
    }
   ],
   "source": [
    "# TODO\n",
    "completed_trips_prev = getCompletedTripsFromFile('/path/to/foo')\n",
    "print('%d agents had completed their trips before this iteration!'%len(completed_trips_prev))"
   ]
  },
  {
   "cell_type": "code",
   "execution_count": 16,
   "metadata": {},
   "outputs": [
    {
     "name": "stdout",
     "output_type": "stream",
     "text": [
      "Plans generated!\n"
     ]
    }
   ],
   "source": [
    "agent_plans = getPlansForTrips(G, agent_trips, agent_prefs, n_links)\n",
    "print(\"Plans generated!\")"
   ]
  },
  {
   "cell_type": "code",
   "execution_count": 17,
   "metadata": {},
   "outputs": [
    {
     "name": "stdout",
     "output_type": "stream",
     "text": [
      "Wrote generated plans to: ../dataset/\n"
     ]
    }
   ],
   "source": [
    "writePlansToFiles(dataset_path,agent_plans)\n",
    "print(\"Wrote generated plans to: \" + dataset_path)"
   ]
  },
  {
   "cell_type": "code",
   "execution_count": 18,
   "metadata": {},
   "outputs": [
    {
     "data": {
      "image/png": "[encoded data removed]",
      "text/plain": [
       "<matplotlib.figure.Figure at 0x7ff417bbb6a0>"
      ]
     },
     "metadata": {},
     "output_type": "display_data"
    }
   ],
   "source": [
    "drawNetwork(G, show_edge_information=False)"
   ]
  },
  {
   "cell_type": "markdown",
   "metadata": {},
   "source": [
    "## TODO:\n",
    "- Read the current position of agents and plan routes accordingly"
   ]
  },
  {
   "cell_type": "code",
   "execution_count": null,
   "metadata": {},
   "outputs": [],
   "source": []
  }
 ],
 "metadata": {
  "kernelspec": {
   "display_name": "Python 3",
   "language": "python",
   "name": "python3"
  },
  "language_info": {
   "codemirror_mode": {
    "name": "ipython",
    "version": 3
   },
   "file_extension": ".py",
   "mimetype": "text/x-python",
   "name": "python",
   "nbconvert_exporter": "python",
   "pygments_lexer": "ipython3",
   "version": "3.6.4"
  }
 },
 "nbformat": 4,
 "nbformat_minor": 2
}
